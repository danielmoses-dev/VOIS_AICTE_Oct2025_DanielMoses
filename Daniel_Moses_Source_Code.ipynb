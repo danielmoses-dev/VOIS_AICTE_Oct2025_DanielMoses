{
 "cells": [
  {
   "cell_type": "markdown",
   "id": "13ae224b-2326-4834-aee4-65d07f66f486",
   "metadata": {},
   "source": [
    "# 1. Importing Necessary Libraries"
   ]
  },
  {
   "cell_type": "code",
   "execution_count": null,
   "id": "59212f3b-c3d9-4451-bef1-d523f8fb630f",
   "metadata": {},
   "outputs": [],
   "source": [
    "import pandas as pd\n",
    "import numpy as np\n",
    "import matplotlib.pyplot as plt\n",
    "import seaborn as sns\n",
    "import plotly.express as px"
   ]
  },
  {
   "cell_type": "markdown",
   "id": "0489962d-06ac-4cc8-8a7a-9c21da358c7a",
   "metadata": {},
   "source": [
    "# 2. Reading Data into Dataframe"
   ]
  },
  {
   "cell_type": "markdown",
   "id": "da5338c2-4f56-4715-a63c-1bac52ccaa84",
   "metadata": {},
   "source": [
    "Since the dataset is not a CSV file, but rather an XLSX file, the `openpyxl` library is required to convert the dataset into Pandas Dataframe"
   ]
  },
  {
   "cell_type": "code",
   "execution_count": null,
   "id": "3760f5a0-37a2-4663-8450-15e6970afa2f",
   "metadata": {},
   "outputs": [],
   "source": [
    "!pip install openpyxl"
   ]
  },
  {
   "cell_type": "code",
   "execution_count": null,
   "id": "9aa2810a-825d-456e-a02b-2bfcdb61becb",
   "metadata": {},
   "outputs": [],
   "source": [
    "df = pd.read_excel('1730285881-Airbnb_Open_Data.xlsx')"
   ]
  },
  {
   "cell_type": "markdown",
   "id": "c84025b4-6615-4c38-802f-4dbe9523063e",
   "metadata": {},
   "source": [
    "# 3. Data Preprocessing"
   ]
  },
  {
   "cell_type": "code",
   "execution_count": null,
   "id": "fd19f1d0-28cb-4484-b6b1-b624b878a61f",
   "metadata": {},
   "outputs": [],
   "source": [
    "df.head()"
   ]
  },
  {
   "cell_type": "code",
   "execution_count": null,
   "id": "0ad3a527-e034-4755-b100-f86c2deb24b2",
   "metadata": {},
   "outputs": [],
   "source": [
    "df.sample(5)"
   ]
  },
  {
   "cell_type": "code",
   "execution_count": null,
   "id": "4b89aeee-8966-4c90-8e32-b644cfc4e76c",
   "metadata": {},
   "outputs": [],
   "source": [
    "df.info()"
   ]
  },
  {
   "cell_type": "markdown",
   "id": "78f72614-4bb3-430e-8b0d-e79e1622dfda",
   "metadata": {},
   "source": [
    "## Looking for duplicates"
   ]
  },
  {
   "cell_type": "code",
   "execution_count": null,
   "id": "ffc0764a-cb22-47c3-8b01-08c825ecdd85",
   "metadata": {},
   "outputs": [],
   "source": [
    "df.duplicated().value_counts()"
   ]
  },
  {
   "cell_type": "code",
   "execution_count": null,
   "id": "79d528e4-30c0-4241-983b-4f6eaa1e9600",
   "metadata": {},
   "outputs": [],
   "source": [
    "df.duplicated().sum()"
   ]
  },
  {
   "cell_type": "markdown",
   "id": "e360d30c-e5c5-4c86-9e08-89024d922bb9",
   "metadata": {},
   "source": [
    "**541 duplicate** entries were discovered in the given dataset. Therefore, all duplicates have been dropped."
   ]
  },
  {
   "cell_type": "code",
   "execution_count": null,
   "id": "2ff45ff2-d4e4-4a6e-b294-5798ccf26d8a",
   "metadata": {},
   "outputs": [],
   "source": [
    "df = df.drop_duplicates()"
   ]
  },
  {
   "cell_type": "code",
   "execution_count": null,
   "id": "a8a8b659-880e-4341-bfe4-21d3fb894fc3",
   "metadata": {},
   "outputs": [],
   "source": [
    "df.duplicated().sum()"
   ]
  },
  {
   "cell_type": "markdown",
   "id": "102f4bdb-367a-47fe-89b4-93882a1d39e4",
   "metadata": {},
   "source": [
    "## Checking null values"
   ]
  },
  {
   "cell_type": "code",
   "execution_count": null,
   "id": "8053de29-7ead-46ee-ab5a-2a99763f3fd3",
   "metadata": {},
   "outputs": [],
   "source": [
    "df.isna().sum()"
   ]
  },
  {
   "cell_type": "code",
   "execution_count": null,
   "id": "11979d0d-72af-4cd4-93e3-0f233299704f",
   "metadata": {},
   "outputs": [],
   "source": [
    "df.dropna(inplace = True)"
   ]
  },
  {
   "cell_type": "markdown",
   "id": "8a57495b-769a-45d7-b76a-0682f81997ca",
   "metadata": {},
   "source": [
    "## Inspecting Important Columns"
   ]
  },
  {
   "cell_type": "code",
   "execution_count": null,
   "id": "6892f51d-9b84-48b3-a576-350cc1c908b3",
   "metadata": {},
   "outputs": [],
   "source": [
    "df['neighbourhood group'].value_counts()"
   ]
  },
  {
   "cell_type": "markdown",
   "id": "67f9627f-57b4-4c47-9e2a-2a8b03064a38",
   "metadata": {},
   "source": [
    "In the column *neighbourhood group*, there are **two errors** relating to Manhattan and Brooklyn. Thus, I'll replace them with the correct value."
   ]
  },
  {
   "cell_type": "code",
   "execution_count": null,
   "id": "cc5e9512-a95a-4252-b9a6-f1fc4e595143",
   "metadata": {},
   "outputs": [],
   "source": [
    "df['neighbourhood group'] = df['neighbourhood group'].replace({'brookln':'Brooklyn', 'manhatan':'Manhattan'})"
   ]
  },
  {
   "cell_type": "code",
   "execution_count": null,
   "id": "3b1ab674-c656-4fde-9e59-a1ec24203019",
   "metadata": {},
   "outputs": [],
   "source": [
    "df['country'].value_counts()"
   ]
  },
  {
   "cell_type": "code",
   "execution_count": null,
   "id": "a9f658f0-df11-4941-8229-2455480557d1",
   "metadata": {},
   "outputs": [],
   "source": [
    "df['room type'].value_counts()"
   ]
  },
  {
   "cell_type": "code",
   "execution_count": null,
   "id": "da40232d-dc68-4d47-bbcc-1f126dcba796",
   "metadata": {},
   "outputs": [],
   "source": [
    "df['price'].sample(20)"
   ]
  },
  {
   "cell_type": "code",
   "execution_count": null,
   "id": "4b0b759d-72c2-4bc3-a9e9-474e1d5034ec",
   "metadata": {},
   "outputs": [],
   "source": [
    "df['service fee'].sample(20)"
   ]
  },
  {
   "cell_type": "markdown",
   "id": "c0a0c418-fd27-4b88-9ba9-d6c3366d3bdf",
   "metadata": {},
   "source": [
    "The values in price and service fee, have dtype **float64** and are purely numerical thus no formatting is required. However their names must contain the currency."
   ]
  },
  {
   "cell_type": "code",
   "execution_count": null,
   "id": "fee5ac3e-3633-43b5-b556-38b388774979",
   "metadata": {},
   "outputs": [],
   "source": [
    "df.rename(columns = {'price':'price_$', 'service fee':'service_fee_$'}, inplace = True)"
   ]
  },
  {
   "cell_type": "code",
   "execution_count": null,
   "id": "a5f369c5-1d6f-40c2-b394-c40eb25bca80",
   "metadata": {},
   "outputs": [],
   "source": [
    "df['house_rules'].head()"
   ]
  },
  {
   "cell_type": "markdown",
   "id": "a65b14df-9c7c-4e9f-bd88-976ec1513ef3",
   "metadata": {},
   "source": [
    "The column *house_rules* is irrelevant to our analysis and *license* contains only 2 entries thus they are dropped."
   ]
  },
  {
   "cell_type": "code",
   "execution_count": null,
   "id": "8fffa40f-2141-413a-9ffd-93d8e557c575",
   "metadata": {},
   "outputs": [],
   "source": [
    "df.drop(['house_rules', 'license'], axis=1, inplace=True"
   ]
  },
  {
   "cell_type": "code",
   "execution_count": null,
   "id": "78f2db98-b2e4-47e9-8859-6dbdfd4bb85c",
   "metadata": {},
   "outputs": [],
   "source": [
    "df['availability 365'].sample(20)"
   ]
  },
  {
   "cell_type": "code",
   "execution_count": null,
   "id": "6f649ff0-b928-4544-8217-cf2590809cbf",
   "metadata": {},
   "outputs": [],
   "source": [
    "plt.boxplot(df['availability 365'])"
   ]
  },
  {
   "cell_type": "code",
   "execution_count": null,
   "id": "6f95aff2-12bd-4502-92c6-5b5ce956856d",
   "metadata": {},
   "outputs": [],
   "source": [
    "#removing the outliers i.e values greater than 500 as seen in the plot\n",
    "df = df.drop(df[df['availability 365'] > 500].index)"
   ]
  },
  {
   "cell_type": "markdown",
   "id": "e869ab91-6101-47b6-ba6f-45e3fd9da43d",
   "metadata": {},
   "source": [
    "## Converting features into appropriate dtypes"
   ]
  },
  {
   "cell_type": "code",
   "execution_count": null,
   "id": "2d672994-9af1-40f9-a904-b7ee84f77234",
   "metadata": {},
   "outputs": [],
   "source": [
    "df.info()"
   ]
  },
  {
   "cell_type": "code",
   "execution_count": null,
   "id": "54cf4629-8b1c-46aa-af96-83125dc4455a",
   "metadata": {},
   "outputs": [],
   "source": [
    "df['last review'].sample(5)"
   ]
  },
  {
   "cell_type": "code",
   "execution_count": null,
   "id": "c0d3d96a-6fa6-4671-9c5c-2074ea0a3856",
   "metadata": {},
   "outputs": [],
   "source": [
    "df['id'] = df['id'].astype(str)\n",
    "df['host id'] = df['host id'].astype(str)\n",
    "df['Construction year'] = df['Construction year'].astype(int)"
   ]
  },
  {
   "cell_type": "markdown",
   "id": "4937eb6c-aadd-4626-9bc7-a6fd4fd38b88",
   "metadata": {},
   "source": [
    "# 4. Exploratory Data Analysis"
   ]
  },
  {
   "cell_type": "code",
   "execution_count": null,
   "id": "96227e68-6887-48e6-a45c-122455e5ea1c",
   "metadata": {},
   "outputs": [],
   "source": [
    "df.describe()"
   ]
  },
  {
   "cell_type": "markdown",
   "id": "b1fddc62-fa6b-451a-aed1-2b9884649339",
   "metadata": {},
   "source": [
    "## Types of Rooms"
   ]
  },
  {
   "cell_type": "markdown",
   "id": "e85d7b56-0173-4848-b417-68ccb66f1615",
   "metadata": {},
   "source": [
    "> What are the different propery types in the AirBnB open Dataset?"
   ]
  },
  {
   "cell_type": "code",
   "execution_count": null,
   "id": "77689860-a4f9-4f2d-8881-42fa0509e732",
   "metadata": {},
   "outputs": [],
   "source": [
    "property_types = df['room type'].value_counts().to_frame()\n",
    "property_types"
   ]
  },
  {
   "cell_type": "code",
   "execution_count": null,
   "id": "6e49c64c-5003-4539-8b4f-6325af23df73",
   "metadata": {},
   "outputs": [],
   "source": [
    "room_type_bar = plt.bar(property_types.index, property_types.loc[:, 'count'])\n",
    "plt.bar_label(room_type_bar, labels = property_types.loc[:, 'count'], padding = 4)\n",
    "plt.ylim([0, 50000])\n",
    "plt.xlabel('Room Type')\n",
    "plt.ylabel('Room Type count')\n",
    "plt.title('Property Types and their Count')"
   ]
  },
  {
   "cell_type": "markdown",
   "id": "c0ef3412-be83-4857-b34c-d7fca94002bb",
   "metadata": {},
   "source": [
    "There are four distinct room or property types as per the given AirBnB Open Dataset which are\n",
    "\n",
    "- Entire home/apt\n",
    "- Private Room\n",
    "- Shared Room\n",
    "- Hotel Room"
   ]
  },
  {
   "cell_type": "markdown",
   "id": "285de615-3b83-459c-a771-68a4baf072b3",
   "metadata": {},
   "source": [
    "## Neighbourhood Group with Highest Listing"
   ]
  },
  {
   "cell_type": "markdown",
   "id": "9ebfa5c4-a58b-4750-93a7-07ae1eb0f1c7",
   "metadata": {},
   "source": [
    "> Which Neighbourhood Group has the Highest Listing?"
   ]
  },
  {
   "cell_type": "code",
   "execution_count": null,
   "id": "fe17e6da-9ece-453f-8f6f-30fd1087c4d6",
   "metadata": {},
   "outputs": [],
   "source": [
    "hood_group = df['neighbourhood group'].value_counts().to_frame()\n",
    "hood_group"
   ]
  },
  {
   "cell_type": "code",
   "execution_count": null,
   "id": "12b419aa-a32c-4f2a-9764-abe65dbb3a56",
   "metadata": {},
   "outputs": [],
   "source": [
    "hood_group_bar = plt.bar(hood_group.index, hood_group.loc[:, 'count'])\n",
    "plt.bar_label(hood_group_bar, labels = hood_group.loc[:, 'count'], padding = 4)\n",
    "plt.ylim([0, 40000])\n",
    "plt.xlabel('Neighbourhood Groups')\n",
    "plt.ylabel('Number of Listings')\n",
    "plt.xticks(rotation = 45)\n",
    "plt.title('Neighbourhood Group with the Highest Listing')"
   ]
  },
  {
   "cell_type": "markdown",
   "id": "6afb5d41-8b3b-4466-a140-9eebea92baa2",
   "metadata": {},
   "source": [
    "Brooklyn has the Highest Number of Listings, with Manhattan being a close second. Following next are Queens, Bronx, and Staten Island."
   ]
  },
  {
   "cell_type": "markdown",
   "id": "cad6273b-bb34-40c0-b1de-1be01ab89e7f",
   "metadata": {},
   "source": [
    "## Neighbourhood Group with highest Average Price"
   ]
  },
  {
   "cell_type": "markdown",
   "id": "6da6503a-befd-409c-a59f-fa29a49b2893",
   "metadata": {},
   "source": [
    "> Which Neighbourhood Group has highest Average Price?"
   ]
  },
  {
   "cell_type": "code",
   "execution_count": null,
   "id": "39259177-8a1c-4c12-b37c-6f60da363506",
   "metadata": {},
   "outputs": [],
   "source": [
    "avg_price = df.groupby('neighbourhood group')['price_$'].mean().sort_values(ascending = False).to_frame()\n",
    "avg_price"
   ]
  },
  {
   "cell_type": "code",
   "execution_count": null,
   "id": "c97788ee-486e-471c-9039-27d6689850e6",
   "metadata": {},
   "outputs": [],
   "source": [
    "avg_price_bar = plt.bar(avg_price.index, avg_price.loc[:, 'price_$'])\n",
    "plt.bar_label(avg_price_bar, labels = round(avg_price.loc[:, 'price_$'], 2), label_type = 'edge', padding = 4)\n",
    "plt.ylim([0, 700])\n",
    "plt.xlabel('Neighbourhood Group')\n",
    "plt.ylabel('Average Price per Listing ($)')\n",
    "plt.xticks(rotation = 45)\n",
    "plt.title('Average Price per Listing ($) in each Neighbourhood Group')"
   ]
  },
  {
   "cell_type": "markdown",
   "id": "c8d6ab2c-4706-4b60-92a8-60b96e633790",
   "metadata": {},
   "source": [
    "There is no major difference among the Average Price per Listing ($) of each Neighbourhood group. Regardless, Queens has the  highest average price per listing, followed by Bronx, Brooklyn, Manhattan, and Staten Island."
   ]
  },
  {
   "cell_type": "markdown",
   "id": "c074bb2d-7ab7-42ec-96a2-114385f7c632",
   "metadata": {},
   "source": [
    "## Relation between Construction Year and Price of Property"
   ]
  },
  {
   "cell_type": "markdown",
   "id": "2011c96d-03cf-4381-9893-0a05e1c5921e",
   "metadata": {},
   "source": [
    "> Is there a Relation between Construction Year and Price of Property?"
   ]
  },
  {
   "cell_type": "code",
   "execution_count": null,
   "id": "4862c03a-f0de-4804-976d-2e4ef6a3dab5",
   "metadata": {},
   "outputs": [],
   "source": [
    "df.groupby(df['Construction year'])['price_$'].mean().to_frame().plot()\n",
    "plt.xlabel('Construction year')\n",
    "plt.ylabel('Average Price ($)')\n",
    "plt.title('Average Price ($) for Properties in each Construction Year')"
   ]
  },
  {
   "cell_type": "markdown",
   "id": "7d59b2c5-bc1c-4596-91d8-98f532c6cda2",
   "metadata": {},
   "source": [
    "The line plot shows a noticeable downward trend as the Construction Year Progresses, with periodic lows and highs."
   ]
  },
  {
   "cell_type": "markdown",
   "id": "e3958638-8794-4a8f-8cf7-5cbc29812bfb",
   "metadata": {},
   "source": [
    "## Top 10 Hosts"
   ]
  },
  {
   "cell_type": "markdown",
   "id": "585df813-f511-4310-b6b8-8993de506f54",
   "metadata": {},
   "source": [
    "> Which are the Top 10 Hosts by Calculated Host Listings Counts?"
   ]
  },
  {
   "cell_type": "code",
   "execution_count": null,
   "id": "65bbf9aa-ecde-4322-8042-c1aee4aa7546",
   "metadata": {},
   "outputs": [],
   "source": [
    "hosts = df.groupby('host name')['calculated host listings count'].sum().sort_values(ascending = False).nlargest(10).to_frame()\n",
    "hosts"
   ]
  },
  {
   "cell_type": "code",
   "execution_count": null,
   "id": "80165cd5-c171-4a16-b3eb-b0c03a451d91",
   "metadata": {},
   "outputs": [],
   "source": [
    "hosts_bar = plt.bar(hosts.index, hosts.loc[:, 'calculated host listings count'])\n",
    "plt.bar_label(hosts_bar, label = hosts.loc[:, 'calculated host listings count'], label_type = 'edge', padding = 3)\n",
    "plt.xlabel('Hosts Name')\n",
    "plt.ylabel('Caculated Host Listings Count')\n",
    "plt.xticks(rotation = 80)\n",
    "plt.ylim([0, 120000])\n",
    "plt.title('Top 10 Hosts by Calculated Host Listings Counts')"
   ]
  },
  {
   "cell_type": "markdown",
   "id": "bd288fbc-c7b3-4dc6-9ac7-bdc53486d057",
   "metadata": {},
   "source": [
    "The Highest Calculated Host Listing belonged to Sonder (NYC) with 111921 Listings with the second highest, Karen trailing far behind at 42410 listings. The remaining contenders follow each other closely."
   ]
  },
  {
   "cell_type": "markdown",
   "id": "86cb4110-60dc-48b1-a67f-47cd366e5958",
   "metadata": {},
   "source": [
    "## Relation between Verified Identities and Positive Reviews"
   ]
  },
  {
   "cell_type": "markdown",
   "id": "da6b7999-fc48-4883-94de-b5cc5f08c920",
   "metadata": {},
   "source": [
    "> Are hosts with verified identities more likely to receive positive reviews?"
   ]
  },
  {
   "cell_type": "code",
   "execution_count": null,
   "id": "595bfb3a-e921-4641-bfe2-098f3322f50a",
   "metadata": {},
   "outputs": [],
   "source": [
    "review = df.groupby('host_identity_verified')['review rate number'].mean().sort_values(ascending = False).to_frame()\n",
    "review"
   ]
  },
  {
   "cell_type": "code",
   "execution_count": null,
   "id": "e03344d6-f15c-4c2c-a90b-7a7bc01da431",
   "metadata": {},
   "outputs": [],
   "source": [
    "review_bar = plt.bar(review.index, review.loc[:, 'review rate number'])\n",
    "plt.bar_label(review_bar, labels = round(review.loc[:, 'review rate number'], 2), padding = 4)\n",
    "plt.ylim([0, 4])\n",
    "plt.xlabel('Host Verification Status')\n",
    "plt.ylabel('Average Review Rate Number')\n",
    "plt.title('Average Review Rate for each verification statistics')"
   ]
  },
  {
   "cell_type": "code",
   "execution_count": null,
   "id": "997b2857-e940-4bf1-936e-43075e76c6c2",
   "metadata": {},
   "outputs": [],
   "source": [
    "base_color = sns.color_palette()[0]\n",
    "sns.boxplot(data = df, x = 'host_identity_verified', y = 'review rate number', color = base_color)\n",
    "plt.xlabel('Host Verification Status')\n",
    "plt.ylabel('Review Rate Number')\n",
    "plt.title('Average Review Rate for each verification status')"
   ]
  },
  {
   "cell_type": "markdown",
   "id": "5bfd2b62-a419-4f9d-a843-2332d6d74f95",
   "metadata": {},
   "source": [
    "There is no visible relation between Average Review Rate and the Verification Status. Hosts have similar Average Review Rates irrespective of thier verification status. Thus, Verification Status does not influence the Review Rate. Precisely speaking, Verified Hosts have a marginally higher Average Review Rate of 3.28 as compared to 3.27 of Unverified Hosts, but it is too small to represent a relation."
   ]
  },
  {
   "cell_type": "markdown",
   "id": "fdc5f4b5-c1e0-43f3-990e-50266c158137",
   "metadata": {},
   "source": [
    "## Correlation between Price and Service Fee of Listing"
   ]
  },
  {
   "cell_type": "markdown",
   "id": "ca9fd143-8bf5-4539-b4e2-1c6981e09d31",
   "metadata": {},
   "source": [
    "> Is there a Correlation between Price and Service Fee of Listing?"
   ]
  },
  {
   "cell_type": "code",
   "execution_count": null,
   "id": "3a517b65-02e4-4bf9-966f-66f5ebb411b0",
   "metadata": {},
   "outputs": [],
   "source": [
    "df['price_$'].corr(df['service_fee_$'])"
   ]
  },
  {
   "cell_type": "code",
   "execution_count": null,
   "id": "4f7c2f7a-82f0-432e-b2cd-4acee723ff73",
   "metadata": {},
   "outputs": [],
   "source": [
    "sns.regplot(df, x = 'price_$', y = 'service_fee_$')\n",
    "plt.xlabel('Price ($)')\n",
    "plt.ylabel('Service Fee ($)')\n",
    "plt.title('A Regression Plot showing the correlation between Price and Service Fee of a Listing')"
   ]
  },
  {
   "cell_type": "markdown",
   "id": "05da9411-0896-49e6-be9d-688bc7a04445",
   "metadata": {},
   "source": [
    "A Pearson Correlation Coefficent of 0.99~ between the Price and Service Fee of Listings indicates a h  igh ly robust postive correlation between these two variables. The Regression Line Plot shows the increase of Service Fee with increase of Listing Price, represented in the form of a straight diagonal rising towards the right."
   ]
  },
  {
   "cell_type": "markdown",
   "id": "e91f97a1-6e73-4a90-8d4f-df047c16a27f",
   "metadata": {},
   "source": [
    "## Average Review Rate Number"
   ]
  },
  {
   "cell_type": "markdown",
   "id": "bee6b800-bc66-4ae4-b4e3-ee306ee8d218",
   "metadata": {},
   "source": [
    "> What is the average review rate number for listings, and does it vary based on the neighbourhood group and room type?"
   ]
  },
  {
   "cell_type": "code",
   "execution_count": null,
   "id": "f2a54d40-6033-43ad-a211-6e9d9cbf06d7",
   "metadata": {},
   "outputs": [],
   "source": [
    "ARRN = df.groupby(['neighbourhood group', 'room type'])['review rate number'].mean().to_frame()\n",
    "ARRN"
   ]
  },
  {
   "cell_type": "code",
   "execution_count": null,
   "id": "12285250-64e2-4ecf-a580-b163b7cdd587",
   "metadata": {},
   "outputs": [],
   "source": [
    "plt.figure(figsize = [12, 10])\n",
    "sns.barplot(data = df, x = 'neighbourhood group', y = 'review rate number', hue = 'room type')\n",
    "plt.xlabel('Neighbourhood Group')\n",
    "plt.ylabel('Average Review Rate')\n",
    "plt.title('Average Review Rate for each Room or Property Type in each Neighbourhood Group')"
   ]
  },
  {
   "cell_type": "markdown",
   "id": "854f9c52-3c73-483c-971d-318cb9407fb4",
   "metadata": {},
   "source": [
    "In each of the three Neighbourhood Groups containing Hotel Groups i.e. Brooklyn, Manhattan, and Queens, Hotel Rooms have a Higher Review Rate as compared to the other Property Types."
   ]
  },
  {
   "cell_type": "markdown",
   "id": "8954b9a3-518c-4a81-a13d-a438fd68801a",
   "metadata": {},
   "source": [
    "## Hosts with Higher Calculated Listings Counts and likelihood of Higher Availability throughout the year"
   ]
  },
  {
   "cell_type": "markdown",
   "id": "ec6c1236-0032-4c77-9f25-3c6f941642ea",
   "metadata": {},
   "source": [
    "> Are hosts with a higher calculated host listings count more likely to maintain a higher availability throughout the year?"
   ]
  },
  {
   "cell_type": "code",
   "execution_count": null,
   "id": "39cea957-6e7d-404d-a806-15ffa9524bbf",
   "metadata": {},
   "outputs": [],
   "source": [
    "sns.regplot(df, x = 'calculated host listings count', y = 'availability 365')\n",
    "plt.xlabel('Calculated Host Listings')\n",
    "plt.ylabel('Availability 365')\n",
    "plt.title('A Regression Plot of the Relationship between Calculated Host Listings Count and Availability 365')"
   ]
  },
  {
   "cell_type": "code",
   "execution_count": null,
   "id": "a9b848dd-354e-4e09-b5e4-6a5c9d47e19c",
   "metadata": {},
   "outputs": [],
   "source": [
    "df['calculated host listings count'].corr(df['availability 365'])"
   ]
  },
  {
   "cell_type": "markdown",
   "id": "2d2a4de9-e132-41ee-aca4-483da2e7756c",
   "metadata": {},
   "source": [
    "With a Pearson Correlation Coefficient value of 0.136~ between Calculated Host Listings and Availbility 365, it is indicated that there is a weak positive correlation between the two variables."
   ]
  },
  {
   "cell_type": "markdown",
   "id": "f9340a9c-001b-41cd-9b51-f5eadac732eb",
   "metadata": {},
   "source": [
    "# Conclusion"
   ]
  },
  {
   "cell_type": "markdown",
   "id": "125b5f03-a092-45cc-b788-71aaf95a9546",
   "metadata": {},
   "source": [
    "In conclusion, this project has provided a **comprehensive analysis of the New York City AirBnB Dataset**, shedding light on the various aspects of the short-term lodging market. Through *Data Wrangling, Exploratory Data Analysis (EDA), and Interpretation of Summary Statistics*, we've uncovered valuable insights into **listing distribution, pricing dynamics, host, and review analysis**.\n",
    "\n",
    "Key findings include the dominance in counts of `Entire home/apt` listings, the variability in `Listing Counts` across neighbourhood groups, and the downward trend between `Property Construction Year` and `Price`. Additionally, the analysis highlighted the significance of `Verified Host status` on `Review Rates`, as well as the strong correlation between `Listing Price` and `Service Fee`.\n",
    "\n",
    "Furthermore, conducting sentiment analysis on guest reviews to understand factors driving customer satisfaction and preferences could inform targeted marketing strategies and product improvements for AirBnB. Lastly, expanding the analytics to include predictive modelling techniques, such as regression or machine learning algorithms, could enable forecasting of listing demand, pricing trends, and customer behaviour, facilitating strategic decision-making for stakeholders in the short-term lodging industry."
   ]
  },
  {
   "cell_type": "code",
   "execution_count": null,
   "id": "fe820ec5-11f8-4981-bab3-02d20f65bee9",
   "metadata": {},
   "outputs": [],
   "source": []
  }
 ],
 "metadata": {
  "kernelspec": {
   "display_name": "Python 3.10 (Main)",
   "language": "python",
   "name": "py310"
  },
  "language_info": {
   "codemirror_mode": {
    "name": "ipython",
    "version": 3
   },
   "file_extension": ".py",
   "mimetype": "text/x-python",
   "name": "python",
   "nbconvert_exporter": "python",
   "pygments_lexer": "ipython3",
   "version": "3.10.11"
  }
 },
 "nbformat": 4,
 "nbformat_minor": 5
}
